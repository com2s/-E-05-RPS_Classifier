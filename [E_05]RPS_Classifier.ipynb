{
  "nbformat": 4,
  "nbformat_minor": 0,
  "metadata": {
    "colab": {
      "provenance": [],
      "collapsed_sections": [],
      "toc_visible": true,
      "machine_shape": "hm"
    },
    "kernelspec": {
      "name": "python3",
      "display_name": "Python 3"
    },
    "language_info": {
      "name": "python"
    },
    "accelerator": "GPU",
    "gpuClass": "premium"
  },
  "cells": [
    {
      "cell_type": "markdown",
      "source": [
        "# 목차\n",
        "\n",
        "* 데이터 불러오기\n",
        "* 딥러닝 네트워크\n",
        "* 딥러닝 개선하기\n",
        "* 결과\n",
        "* 회고\n",
        "* Reference\n",
        "---------------------------\n",
        "루브릭\n",
        "\n",
        "아래의 기준을 바탕으로 프로젝트를 평가합니다.\n",
        "\n",
        "* 평가문항\t상세기준\n",
        "1. 이미지 분류기 모델이 성공적으로 만들어졌는가?\n",
        "\n",
        "> 학습과정이 정상적으로 수행되었으며, 학습 결과에 대한 그래프를 시각화(ex. train acc / train loss / val acc / val loss 등) 해 보았음\n",
        "\n",
        "2. 오버피팅을 극복하기 위한 적절한 시도가 있었는가?\n",
        "\n",
        "> 오버피팅 극복을 위하여 데이터셋의 다양성, 정규화 등을 2가지 이상 시도해보았음\n",
        "\n",
        "3. 분류모델의 test accuracy가 기준 이상 높게 나왔는가?\n",
        "\n",
        "> 60% 이상 도달하였음"
      ],
      "metadata": {
        "id": "C5-Zvt8RiHz4"
      }
    },
    {
      "cell_type": "code",
      "source": [
        "from google.colab import drive\n",
        "drive.mount('/content/drive')\n",
        "\n",
        "# 런타임 유형 바꿀 것"
      ],
      "metadata": {
        "colab": {
          "base_uri": "https://localhost:8080/"
        },
        "id": "_ZYCz_jMkXcC",
        "outputId": "a575ce18-dab7-4364-f2e7-01ad79e54ea5"
      },
      "execution_count": 1,
      "outputs": [
        {
          "output_type": "stream",
          "name": "stdout",
          "text": [
            "Drive already mounted at /content/drive; to attempt to forcibly remount, call drive.mount(\"/content/drive\", force_remount=True).\n"
          ]
        }
      ]
    },
    {
      "cell_type": "markdown",
      "source": [
        "# 데이터 불러오기\n",
        "\n"
      ],
      "metadata": {
        "id": "JLR1h8LWl3WR"
      }
    },
    {
      "cell_type": "markdown",
      "source": [
        "## 이미지 리사이징"
      ],
      "metadata": {
        "id": "s7BFcfp5Y4Ad"
      }
    },
    {
      "cell_type": "code",
      "source": [
        "from PIL import Image\n",
        "import glob\n",
        "import tensorflow as tf\n",
        "import numpy as np\n",
        "import matplotlib.pyplot as plt"
      ],
      "metadata": {
        "id": "mAESNeD_l2mA"
      },
      "execution_count": 27,
      "outputs": []
    },
    {
      "cell_type": "markdown",
      "source": [
        "각기 다른 환경에서 촬영한 세 사람의 사진을 학습 데이터로 가져온다."
      ],
      "metadata": {
        "id": "08NeV-FjYmbP"
      }
    },
    {
      "cell_type": "code",
      "source": [
        "def resize_images(img_path):\n",
        "\timages=glob.glob(img_path + \"/*.jpg\")  \n",
        "    \n",
        "\tprint(len(images), \" images to be resized.\")\n",
        "\n",
        "    # 파일마다 모두 28x28 사이즈로 바꾸어 저장합니다.\n",
        "\ttarget_size=(28,28)\n",
        "\tfor img in images:\n",
        "\t\told_img=Image.open(img)\n",
        "\t\tnew_img=old_img.resize(target_size,Image.ANTIALIAS)\n",
        "\t\tnew_img.save(img, \"JPEG\")\n",
        "    \n",
        "\tprint(len(images), \" images resized.\")\n",
        "\t\n",
        "# 가위 이미지가 저장된 디렉토리 아래의 모든 jpg 파일을 읽어들여서\n",
        "image_dir_path = \"/content/drive/MyDrive/아이펠 데이터/가위바위보/scissor/scissor\"\n",
        "resize_images(image_dir_path)\n",
        "\n",
        "print(\"가위 이미지 resize 완료!\")"
      ],
      "metadata": {
        "colab": {
          "base_uri": "https://localhost:8080/"
        },
        "id": "NnKvzV4cl2kI",
        "outputId": "cc21f499-6ae4-40a5-fe89-d26f057fe75e"
      },
      "execution_count": 28,
      "outputs": [
        {
          "output_type": "stream",
          "name": "stdout",
          "text": [
            "789  images to be resized.\n",
            "789  images resized.\n",
            "가위 이미지 resize 완료!\n"
          ]
        }
      ]
    },
    {
      "cell_type": "code",
      "source": [
        "def resize_images(img_path):\n",
        "\timages=glob.glob(img_path + \"/*.jpg\")  \n",
        "    \n",
        "\tprint(len(images), \" images to be resized.\")\n",
        "\n",
        "    # 파일마다 모두 28x28 사이즈로 바꾸어 저장합니다.\n",
        "\ttarget_size=(28,28)\n",
        "\tfor img in images:\n",
        "\t\told_img=Image.open(img)\n",
        "\t\tnew_img=old_img.resize(target_size,Image.ANTIALIAS)\n",
        "\t\tnew_img.save(img, \"JPEG\")\n",
        "    \n",
        "\tprint(len(images), \" images resized.\")\n",
        "\t\n",
        "# 바위 이미지가 저장된 디렉토리 아래의 모든 jpg 파일을 읽어들여서\n",
        "image_dir_path = \"/content/drive/MyDrive/아이펠 데이터/가위바위보/rock/rock\"\n",
        "resize_images(image_dir_path)\n",
        "\n",
        "print(\"바위 이미지 resize 완료!\")"
      ],
      "metadata": {
        "colab": {
          "base_uri": "https://localhost:8080/"
        },
        "id": "cqQqmimol2hi",
        "outputId": "d78a27d0-51f0-4579-f004-0c1c7918acb0"
      },
      "execution_count": 29,
      "outputs": [
        {
          "output_type": "stream",
          "name": "stdout",
          "text": [
            "833  images to be resized.\n",
            "833  images resized.\n",
            "바위 이미지 resize 완료!\n"
          ]
        }
      ]
    },
    {
      "cell_type": "code",
      "source": [
        "def resize_images(img_path):\n",
        "\timages=glob.glob(img_path + \"/*.jpg\")  \n",
        "    \n",
        "\tprint(len(images), \" images to be resized.\")\n",
        "\n",
        "    # 파일마다 모두 28x28 사이즈로 바꾸어 저장합니다.\n",
        "\ttarget_size=(28,28)\n",
        "\tfor img in images:\n",
        "\t\told_img=Image.open(img)\n",
        "\t\tnew_img=old_img.resize(target_size,Image.ANTIALIAS)\n",
        "\t\tnew_img.save(img, \"JPEG\")\n",
        "    \n",
        "\tprint(len(images), \" images resized.\")\n",
        "\t\n",
        "# 보 이미지가 저장된 디렉토리 아래의 모든 jpg 파일을 읽어들여서\n",
        "image_dir_path = \"/content/drive/MyDrive/아이펠 데이터/가위바위보/paper/paper\"\n",
        "resize_images(image_dir_path)\n",
        "\n",
        "print(\"보 이미지 resize 완료!\")"
      ],
      "metadata": {
        "colab": {
          "base_uri": "https://localhost:8080/"
        },
        "id": "Mcqio5qxl2fX",
        "outputId": "b8c2aea3-2487-43a8-da93-55a131e55b18"
      },
      "execution_count": 30,
      "outputs": [
        {
          "output_type": "stream",
          "name": "stdout",
          "text": [
            "809  images to be resized.\n",
            "809  images resized.\n",
            "보 이미지 resize 완료!\n"
          ]
        }
      ]
    },
    {
      "cell_type": "code",
      "source": [
        "789+809+833"
      ],
      "metadata": {
        "colab": {
          "base_uri": "https://localhost:8080/"
        },
        "id": "vPZnB1stpP51",
        "outputId": "e7fb4dd8-23b2-4149-8eb3-5123f35a7018"
      },
      "execution_count": 31,
      "outputs": [
        {
          "output_type": "execute_result",
          "data": {
            "text/plain": [
              "2431"
            ]
          },
          "metadata": {},
          "execution_count": 31
        }
      ]
    },
    {
      "cell_type": "markdown",
      "source": [
        "## 데이터 라벨링"
      ],
      "metadata": {
        "id": "Tt7g3QIqpCNO"
      }
    },
    {
      "cell_type": "code",
      "source": [
        "def load_data(img_path, number_of_data=2431):  # 가위바위보 이미지 개수 총합에 주의하세요.\n",
        "    # 가위 : 0, 바위 : 1, 보 : 2\n",
        "    img_size=28\n",
        "    color=3\n",
        "    #이미지 데이터와 라벨(가위 : 0, 바위 : 1, 보 : 2) 데이터를 담을 행렬(matrix) 영역을 생성합니다.\n",
        "    imgs=np.zeros(number_of_data*img_size*img_size*color,dtype=np.int32).reshape(number_of_data,img_size,img_size,color)\n",
        "    labels=np.zeros(number_of_data,dtype=np.int32)\n",
        "\n",
        "    idx=0\n",
        "    for file in glob.iglob(img_path+'/scissor/scissor/*.jpg'):\n",
        "        img = np.array(Image.open(file),dtype=np.int32)\n",
        "        imgs[idx,:,:,:]=img    # 데이터 영역에 이미지 행렬을 복사\n",
        "        labels[idx]=0   # 가위 : 0\n",
        "        idx=idx+1\n",
        "\n",
        "    for file in glob.iglob(img_path+'/rock/rock/*.jpg'):\n",
        "        img = np.array(Image.open(file),dtype=np.int32)\n",
        "        imgs[idx,:,:,:]=img    # 데이터 영역에 이미지 행렬을 복사\n",
        "        labels[idx]=1   # 바위 : 1\n",
        "        idx=idx+1  \n",
        "    \n",
        "    for file in glob.iglob(img_path+'/paper/paper/*.jpg'):\n",
        "        img = np.array(Image.open(file),dtype=np.int32)\n",
        "        imgs[idx,:,:,:]=img    # 데이터 영역에 이미지 행렬을 복사\n",
        "        labels[idx]=2   # 보 : 2\n",
        "        idx=idx+1\n",
        "        \n",
        "    print(\"학습데이터(x_train)의 이미지 개수는\", idx,\"입니다.\")\n",
        "    return imgs, labels\n",
        "\n",
        "image_dir_path = \"/content/drive/MyDrive/아이펠 데이터/가위바위보\"\n",
        "(x_train, y_train)=load_data(image_dir_path)\n",
        "x_train_norm = x_train/255.0   # 입력은 0~1 사이의 값으로 정규화\n",
        "\n",
        "print(\"x_train shape: {}\".format(x_train.shape))\n",
        "print(\"y_train shape: {}\".format(y_train.shape))"
      ],
      "metadata": {
        "colab": {
          "base_uri": "https://localhost:8080/"
        },
        "id": "oLy9VtdYl2cD",
        "outputId": "4425beef-0dc6-4813-9604-f21978c3bd68"
      },
      "execution_count": 32,
      "outputs": [
        {
          "output_type": "stream",
          "name": "stdout",
          "text": [
            "학습데이터(x_train)의 이미지 개수는 2431 입니다.\n",
            "x_train shape: (2431, 28, 28, 3)\n",
            "y_train shape: (2431,)\n"
          ]
        }
      ]
    },
    {
      "cell_type": "code",
      "source": [
        "plt.imshow(x_train[0])\n",
        "print('라벨: ', y_train[0])"
      ],
      "metadata": {
        "colab": {
          "base_uri": "https://localhost:8080/",
          "height": 282
        },
        "id": "G05-sdpRl2Zl",
        "outputId": "e3914b0b-048c-466f-ebd0-9930e0f0c008"
      },
      "execution_count": 33,
      "outputs": [
        {
          "output_type": "stream",
          "name": "stdout",
          "text": [
            "라벨:  0\n"
          ]
        },
        {
          "output_type": "display_data",
          "data": {
            "text/plain": [
              "<Figure size 432x288 with 1 Axes>"
            ],
            "image/png": "[encoded data removed]"
          },
          "metadata": {
            "needs_background": "light"
          }
        }
      ]
    },
    {
      "cell_type": "markdown",
      "source": [
        "# 딥러닝 네트워크\n",
        "\n"
      ],
      "metadata": {
        "id": "2CrnMxvsvDvF"
      }
    },
    {
      "cell_type": "markdown",
      "source": [
        "## 모델 설계하기"
      ],
      "metadata": {
        "id": "NqiDS1KWYwia"
      }
    },
    {
      "cell_type": "code",
      "source": [
        "from tensorflow import keras\n",
        "\n",
        "# model을 직접 만들어 보세요.\n",
        "# Hint! model의 입력/출력부에 특히 유의해 주세요. 가위바위보 데이터셋은 MNIST 데이터셋과 어떤 점이 달라졌나요?\n",
        "model=keras.models.Sequential()\n",
        "model.add(keras.layers.Conv2D(16, (3,3), activation='relu', input_shape=(28,28,3)))\n",
        "model.add(keras.layers.MaxPool2D(2,2))\n",
        "model.add(keras.layers.Conv2D(32, (3,3), activation='relu'))\n",
        "model.add(keras.layers.MaxPooling2D((2,2)))\n",
        "model.add(keras.layers.Flatten())\n",
        "model.add(keras.layers.Dense(32, activation='relu'))\n",
        "model.add(keras.layers.Dense(3, activation='softmax'))\n",
        "\n",
        "model.summary()"
      ],
      "metadata": {
        "colab": {
          "base_uri": "https://localhost:8080/"
        },
        "id": "FGO-ykoul2Xg",
        "outputId": "adab213c-fb84-4d54-b117-552b7fd5bf79"
      },
      "execution_count": 34,
      "outputs": [
        {
          "output_type": "stream",
          "name": "stdout",
          "text": [
            "Model: \"sequential_6\"\n",
            "_________________________________________________________________\n",
            " Layer (type)                Output Shape              Param #   \n",
            "=================================================================\n",
            " conv2d_12 (Conv2D)          (None, 26, 26, 16)        448       \n",
            "                                                                 \n",
            " max_pooling2d_12 (MaxPoolin  (None, 13, 13, 16)       0         \n",
            " g2D)                                                            \n",
            "                                                                 \n",
            " conv2d_13 (Conv2D)          (None, 11, 11, 32)        4640      \n",
            "                                                                 \n",
            " max_pooling2d_13 (MaxPoolin  (None, 5, 5, 32)         0         \n",
            " g2D)                                                            \n",
            "                                                                 \n",
            " flatten_6 (Flatten)         (None, 800)               0         \n",
            "                                                                 \n",
            " dense_12 (Dense)            (None, 32)                25632     \n",
            "                                                                 \n",
            " dense_13 (Dense)            (None, 3)                 99        \n",
            "                                                                 \n",
            "=================================================================\n",
            "Total params: 30,819\n",
            "Trainable params: 30,819\n",
            "Non-trainable params: 0\n",
            "_________________________________________________________________\n"
          ]
        }
      ]
    },
    {
      "cell_type": "markdown",
      "source": [
        "딥러닝 네트워크에서 relu 함수를 사용해 비선형을 구현하지만 마지막에는 softmax 함수를 사용한다. 그렇게 하면 최종 결과가 각각의 타겟 데이터에 대한 확률 분포로써 나오게 되기 때문에 모델이 어떤 예측을 하고있는지 직관적으로 알 수 있다."
      ],
      "metadata": {
        "id": "k-kHH6gnzygj"
      }
    },
    {
      "cell_type": "markdown",
      "source": [
        "## 모델 학습"
      ],
      "metadata": {
        "id": "HtmTiiWHE514"
      }
    },
    {
      "cell_type": "code",
      "source": [
        "model.compile(optimizer='adam',\n",
        "             loss='sparse_categorical_crossentropy',\n",
        "             metrics=['accuracy'])\n",
        "\n",
        "model.fit(x_train_norm, y_train, epochs=10)"
      ],
      "metadata": {
        "colab": {
          "base_uri": "https://localhost:8080/"
        },
        "id": "uznAWW1ME5fn",
        "outputId": "595fec99-d943-48b6-a302-a1d45bb8be2a"
      },
      "execution_count": 35,
      "outputs": [
        {
          "output_type": "stream",
          "name": "stdout",
          "text": [
            "Epoch 1/10\n",
            "76/76 [==============================] - 1s 4ms/step - loss: 0.9399 - accuracy: 0.5817\n",
            "Epoch 2/10\n",
            "76/76 [==============================] - 0s 4ms/step - loss: 0.3838 - accuracy: 0.8836\n",
            "Epoch 3/10\n",
            "76/76 [==============================] - 0s 4ms/step - loss: 0.2162 - accuracy: 0.9292\n",
            "Epoch 4/10\n",
            "76/76 [==============================] - 0s 4ms/step - loss: 0.1705 - accuracy: 0.9473\n",
            "Epoch 5/10\n",
            "76/76 [==============================] - 0s 4ms/step - loss: 0.1057 - accuracy: 0.9700\n",
            "Epoch 6/10\n",
            "76/76 [==============================] - 0s 4ms/step - loss: 0.0805 - accuracy: 0.9803\n",
            "Epoch 7/10\n",
            "76/76 [==============================] - 0s 4ms/step - loss: 0.0739 - accuracy: 0.9794\n",
            "Epoch 8/10\n",
            "76/76 [==============================] - 0s 4ms/step - loss: 0.0539 - accuracy: 0.9848\n",
            "Epoch 9/10\n",
            "76/76 [==============================] - 0s 4ms/step - loss: 0.0462 - accuracy: 0.9897\n",
            "Epoch 10/10\n",
            "76/76 [==============================] - 0s 4ms/step - loss: 0.0331 - accuracy: 0.9947\n"
          ]
        },
        {
          "output_type": "execute_result",
          "data": {
            "text/plain": [
              "<keras.callbacks.History at 0x7f157227d2d0>"
            ]
          },
          "metadata": {},
          "execution_count": 35
        }
      ]
    },
    {
      "cell_type": "markdown",
      "source": [
        "epoch가 진행될수록 loss는 감소하고 accuracy는 증가하는 모습을 볼 수 있다."
      ],
      "metadata": {
        "id": "RU39ilu80d1J"
      }
    },
    {
      "cell_type": "markdown",
      "source": [
        "## 모델 평가\n",
        "\n"
      ],
      "metadata": {
        "id": "Rh28X1UaIbB2"
      }
    },
    {
      "cell_type": "markdown",
      "source": [
        "### 테스트 데이터셋 불러오기\n",
        "\n",
        "학습 데이터와 별개의 사람이 촬영한 사진을 테스트 데이터로 가져온다."
      ],
      "metadata": {
        "id": "144RdSA-Y0Jg"
      }
    },
    {
      "cell_type": "code",
      "source": [
        "def resize_images(img_path):\n",
        "\timages=glob.glob(img_path + \"/*.jpg\")  \n",
        "    \n",
        "\tprint(len(images), \" images to be resized.\")\n",
        "\n",
        "    # 파일마다 모두 28x28 사이즈로 바꾸어 저장합니다.\n",
        "\ttarget_size=(28,28)\n",
        "\tfor img in images:\n",
        "\t\told_img=Image.open(img)\n",
        "\t\tnew_img=old_img.resize(target_size,Image.ANTIALIAS)\n",
        "\t\tnew_img.save(img, \"JPEG\")\n",
        "    \n",
        "\tprint(len(images), \" images resized.\")\n",
        "\t\n",
        "# 가위 이미지가 저장된 디렉토리 아래의 모든 jpg 파일을 읽어들여서\n",
        "image_dir_path = \"/content/drive/MyDrive/아이펠 데이터/가위바위보/testdata/scissor\"\n",
        "resize_images(image_dir_path)\n",
        "\n",
        "print(\"가위 이미지 resize 완료!\")\n"
      ],
      "metadata": {
        "colab": {
          "base_uri": "https://localhost:8080/"
        },
        "id": "CgIXC3IjE5bd",
        "outputId": "94e05673-1746-4f67-ff0c-7b3f5230de04"
      },
      "execution_count": 36,
      "outputs": [
        {
          "output_type": "stream",
          "name": "stdout",
          "text": [
            "200  images to be resized.\n",
            "200  images resized.\n",
            "가위 이미지 resize 완료!\n"
          ]
        }
      ]
    },
    {
      "cell_type": "code",
      "source": [
        "def resize_images(img_path):\n",
        "\timages=glob.glob(img_path + \"/*.jpg\")  \n",
        "    \n",
        "\tprint(len(images), \" images to be resized.\")\n",
        "\n",
        "    # 파일마다 모두 28x28 사이즈로 바꾸어 저장합니다.\n",
        "\ttarget_size=(28,28)\n",
        "\tfor img in images:\n",
        "\t\told_img=Image.open(img)\n",
        "\t\tnew_img=old_img.resize(target_size,Image.ANTIALIAS)\n",
        "\t\tnew_img.save(img, \"JPEG\")\n",
        "    \n",
        "\tprint(len(images), \" images resized.\")\n",
        "\t\n",
        "# 바위 이미지가 저장된 디렉토리 아래의 모든 jpg 파일을 읽어들여서\n",
        "image_dir_path = \"/content/drive/MyDrive/아이펠 데이터/가위바위보/testdata/rock\"\n",
        "resize_images(image_dir_path)\n",
        "\n",
        "print(\"바위 이미지 resize 완료!\")"
      ],
      "metadata": {
        "colab": {
          "base_uri": "https://localhost:8080/"
        },
        "id": "0jltWNu8E5ZG",
        "outputId": "de49490c-1243-4da5-d7a7-dcd4d5968a0c"
      },
      "execution_count": 37,
      "outputs": [
        {
          "output_type": "stream",
          "name": "stdout",
          "text": [
            "200  images to be resized.\n",
            "200  images resized.\n",
            "바위 이미지 resize 완료!\n"
          ]
        }
      ]
    },
    {
      "cell_type": "code",
      "source": [
        "def resize_images(img_path):\n",
        "\timages=glob.glob(img_path + \"/*.jpg\")  \n",
        "    \n",
        "\tprint(len(images), \" images to be resized.\")\n",
        "\n",
        "    # 파일마다 모두 28x28 사이즈로 바꾸어 저장합니다.\n",
        "\ttarget_size=(28,28)\n",
        "\tfor img in images:\n",
        "\t\told_img=Image.open(img)\n",
        "\t\tnew_img=old_img.resize(target_size,Image.ANTIALIAS)\n",
        "\t\tnew_img.save(img, \"JPEG\")\n",
        "    \n",
        "\tprint(len(images), \" images resized.\")\n",
        "\t\n",
        "# 보 이미지가 저장된 디렉토리 아래의 모든 jpg 파일을 읽어들여서\n",
        "image_dir_path = \"/content/drive/MyDrive/아이펠 데이터/가위바위보/testdata/paper\"\n",
        "resize_images(image_dir_path)\n",
        "\n",
        "print(\"보 이미지 resize 완료!\")"
      ],
      "metadata": {
        "id": "v7v24y33l2VB",
        "colab": {
          "base_uri": "https://localhost:8080/"
        },
        "outputId": "2329d8da-77fa-4f74-a445-f95e61820849"
      },
      "execution_count": 38,
      "outputs": [
        {
          "output_type": "stream",
          "name": "stdout",
          "text": [
            "200  images to be resized.\n",
            "200  images resized.\n",
            "보 이미지 resize 완료!\n"
          ]
        }
      ]
    },
    {
      "cell_type": "code",
      "source": [
        "def load_data(img_path, number_of_data=600):  # 가위바위보 이미지 개수 총합에 주의하세요.\n",
        "    # 가위 : 0, 바위 : 1, 보 : 2\n",
        "    img_size=28\n",
        "    color=3\n",
        "    #이미지 데이터와 라벨(가위 : 0, 바위 : 1, 보 : 2) 데이터를 담을 행렬(matrix) 영역을 생성합니다.\n",
        "    imgs=np.zeros(number_of_data*img_size*img_size*color,dtype=np.int32).reshape(number_of_data,img_size,img_size,color)\n",
        "    labels=np.zeros(number_of_data,dtype=np.int32)\n",
        "\n",
        "    idx=0\n",
        "    for file in glob.iglob(img_path+'/testdata/scissor/*.jpg'):\n",
        "        img = np.array(Image.open(file),dtype=np.int32)\n",
        "        imgs[idx,:,:,:]=img    # 데이터 영역에 이미지 행렬을 복사\n",
        "        labels[idx]=0   # 가위 : 0\n",
        "        idx=idx+1\n",
        "\n",
        "    for file in glob.iglob(img_path+'/testdata/rock/*.jpg'):\n",
        "        img = np.array(Image.open(file),dtype=np.int32)\n",
        "        imgs[idx,:,:,:]=img    # 데이터 영역에 이미지 행렬을 복사\n",
        "        labels[idx]=1   # 바위 : 1\n",
        "        idx=idx+1  \n",
        "    \n",
        "    for file in glob.iglob(img_path+'/testdata/paper/*.jpg'):\n",
        "        img = np.array(Image.open(file),dtype=np.int32)\n",
        "        imgs[idx,:,:,:]=img    # 데이터 영역에 이미지 행렬을 복사\n",
        "        labels[idx]=2   # 보 : 2\n",
        "        idx=idx+1\n",
        "        \n",
        "    print(\"평가데이터(x_test)의 이미지 개수는\", idx,\"입니다.\")\n",
        "    return imgs, labels\n",
        "\n",
        "image_dir_path = \"/content/drive/MyDrive/아이펠 데이터/가위바위보\"\n",
        "(x_test, y_test)=load_data(image_dir_path)\n",
        "x_test_norm = x_test/255.0   # 입력은 0~1 사이의 값으로 정규화\n",
        "\n",
        "print(\"x_test shape: {}\".format(x_train.shape))\n",
        "print(\"y_test shape: {}\".format(y_train.shape))"
      ],
      "metadata": {
        "colab": {
          "base_uri": "https://localhost:8080/"
        },
        "id": "Bho6iV2ySzqA",
        "outputId": "370ed9dc-5fd2-4c0e-815d-a21ad1341052"
      },
      "execution_count": 39,
      "outputs": [
        {
          "output_type": "stream",
          "name": "stdout",
          "text": [
            "평가데이터(x_test)의 이미지 개수는 600 입니다.\n",
            "x_test shape: (2431, 28, 28, 3)\n",
            "y_test shape: (2431,)\n"
          ]
        }
      ]
    },
    {
      "cell_type": "markdown",
      "source": [
        "### 테스트 결과"
      ],
      "metadata": {
        "id": "99otJrc0XVFH"
      }
    },
    {
      "cell_type": "code",
      "source": [
        "test_loss, test_accuracy = model.evaluate(x_test_norm,y_test, verbose=2)\n",
        "print(f\"test_loss: {test_loss}\")\n",
        "print(f\"test_accuracy: {test_accuracy}\")"
      ],
      "metadata": {
        "colab": {
          "base_uri": "https://localhost:8080/"
        },
        "id": "-uCxu7nGWndJ",
        "outputId": "453262d5-273d-49e9-b192-1106fd73fbaf"
      },
      "execution_count": 40,
      "outputs": [
        {
          "output_type": "stream",
          "name": "stdout",
          "text": [
            "19/19 - 0s - loss: 8.8273 - accuracy: 0.4167 - 183ms/epoch - 10ms/step\n",
            "test_loss: 8.82727336883545\n",
            "test_accuracy: 0.4166666567325592\n"
          ]
        }
      ]
    },
    {
      "cell_type": "markdown",
      "source": [
        "학습 때와는 달리 매우 높은 loss와 낮은 accuracy를 보인다. 하지만 정확도가 1/3 보다는 높으므로 학습이 올바른 방향으로 이루어지기는 했음을 알 수 있다. "
      ],
      "metadata": {
        "id": "5DaYjeru0mBC"
      }
    },
    {
      "cell_type": "markdown",
      "source": [
        "# 딥러닝 개선하기"
      ],
      "metadata": {
        "id": "8ws4dG4vYoxc"
      }
    },
    {
      "cell_type": "markdown",
      "source": [
        "## 모델의 추론 살펴보기"
      ],
      "metadata": {
        "id": "3nE2D8ZzmB3n"
      }
    },
    {
      "cell_type": "code",
      "source": [
        "# 모델의 추론과 실제 비교\n",
        "\n",
        "predicted_result = model.predict(x_test_norm)  # model이 추론한 확률값. \n",
        "predicted_labels = np.argmax(predicted_result, axis=1)\n",
        "\n",
        "idx=0  #1번째 x_test를 살펴보자. \n",
        "print('model.predict() 결과 : ', predicted_result[idx])\n",
        "print('model이 추론한 가장 가능성이 높은 결과 : ', predicted_labels[idx])\n",
        "print('실제 데이터의 라벨 : ', y_test[idx])"
      ],
      "metadata": {
        "colab": {
          "base_uri": "https://localhost:8080/"
        },
        "id": "mff3YMf1R9-7",
        "outputId": "bfb6f329-7661-4665-a5a8-cac9af69615c"
      },
      "execution_count": 41,
      "outputs": [
        {
          "output_type": "stream",
          "name": "stdout",
          "text": [
            "model.predict() 결과 :  [6.3490190e-02 3.9068162e-15 9.3650985e-01]\n",
            "model이 추론한 가장 가능성이 높은 결과 :  2\n",
            "실제 데이터의 라벨 :  0\n"
          ]
        }
      ]
    },
    {
      "cell_type": "code",
      "source": [
        "plt.imshow(x_test[idx],cmap=plt.cm.binary)\n",
        "plt.show()"
      ],
      "metadata": {
        "colab": {
          "base_uri": "https://localhost:8080/",
          "height": 265
        },
        "id": "XlxgNAjnmRNv",
        "outputId": "f8c827df-5d60-4986-ed3e-97033e5289e5"
      },
      "execution_count": 42,
      "outputs": [
        {
          "output_type": "display_data",
          "data": {
            "text/plain": [
              "<Figure size 432x288 with 1 Axes>"
            ],
            "image/png": "[encoded data removed]"
          },
          "metadata": {
            "needs_background": "light"
          }
        }
      ]
    },
    {
      "cell_type": "code",
      "source": [
        "# 모델이 틀린 경우\n",
        "\n",
        "import random\n",
        "wrong_predict_list=[]\n",
        "for i,_ in enumerate(predicted_labels):\n",
        "    # i번째 test_labels과 y_test이 다른 경우만 모아 봅시다. \n",
        "    if predicted_labels[i] != y_test[i]:\n",
        "        wrong_predict_list.append(i)\n",
        "\n",
        "# wrong_predict_list 에서 랜덤하게 5개만 뽑아봅시다.\n",
        "samples = random.choices(population=wrong_predict_list, k=5)\n",
        "\n",
        "for n in samples:\n",
        "    print(\"예측확률분포: \" + str(predicted_result[n]))\n",
        "    print(\"라벨: \" + str(y_test[n]) + \", 예측결과: \" + str(predicted_labels[n]))\n",
        "    plt.imshow(x_test[n], cmap=plt.cm.binary)\n",
        "    plt.show()"
      ],
      "metadata": {
        "colab": {
          "base_uri": "https://localhost:8080/",
          "height": 1000
        },
        "id": "DDXEfH3OmV_F",
        "outputId": "564e15b5-6ef9-4b3e-f26e-0bce3c073b8c"
      },
      "execution_count": 43,
      "outputs": [
        {
          "output_type": "stream",
          "name": "stdout",
          "text": [
            "예측확률분포: [2.6947316e-03 5.6862154e-12 9.9730527e-01]\n",
            "라벨: 1, 예측결과: 2\n"
          ]
        },
        {
          "output_type": "display_data",
          "data": {
            "text/plain": [
              "<Figure size 432x288 with 1 Axes>"
            ],
            "image/png": "[encoded data removed]"
          },
          "metadata": {
            "needs_background": "light"
          }
        },
        {
          "output_type": "stream",
          "name": "stdout",
          "text": [
            "예측확률분포: [6.8886072e-04 4.8295426e-12 9.9931109e-01]\n",
            "라벨: 1, 예측결과: 2\n"
          ]
        },
        {
          "output_type": "display_data",
          "data": {
            "text/plain": [
              "<Figure size 432x288 with 1 Axes>"
            ],
            "image/png": "[encoded data removed]"
          },
          "metadata": {
            "needs_background": "light"
          }
        },
        {
          "output_type": "stream",
          "name": "stdout",
          "text": [
            "예측확률분포: [6.9447900e-08 4.4849128e-11 9.9999988e-01]\n",
            "라벨: 1, 예측결과: 2\n"
          ]
        },
        {
          "output_type": "display_data",
          "data": {
            "text/plain": [
              "<Figure size 432x288 with 1 Axes>"
            ],
            "image/png": "[encoded data removed]"
          },
          "metadata": {
            "needs_background": "light"
          }
        },
        {
          "output_type": "stream",
          "name": "stdout",
          "text": [
            "예측확률분포: [4.9265388e-08 5.6396516e-11 1.0000000e+00]\n",
            "라벨: 1, 예측결과: 2\n"
          ]
        },
        {
          "output_type": "display_data",
          "data": {
            "text/plain": [
              "<Figure size 432x288 with 1 Axes>"
            ],
            "image/png": "[encoded data removed]"
          },
          "metadata": {
            "needs_background": "light"
          }
        },
        {
          "output_type": "stream",
          "name": "stdout",
          "text": [
            "예측확률분포: [4.2091823e-01 2.1603426e-14 5.7908171e-01]\n",
            "라벨: 0, 예측결과: 2\n"
          ]
        },
        {
          "output_type": "display_data",
          "data": {
            "text/plain": [
              "<Figure size 432x288 with 1 Axes>"
            ],
            "image/png": "[encoded data removed]"
          },
          "metadata": {
            "needs_background": "light"
          }
        }
      ]
    },
    {
      "cell_type": "markdown",
      "source": [
        "위 결과를 봤을 때 틀린 예측임에도 모델은 높은 확신을 가지고 있음을 볼 수 있었다.\n",
        "\n",
        "따라서 학습된 모델이 테스트 데이터에 대해서 판단을 제대로 내리지 못 하고 있다는 것을 알 수 있다.\n",
        "\n",
        "## 하이퍼 파라미터 바꾸기"
      ],
      "metadata": {
        "id": "jCbIq5KBm95S"
      }
    },
    {
      "cell_type": "code",
      "source": [
        "# 바꿔 볼 수 있는 하이퍼파라미터들\n",
        "n_channel_1=32\n",
        "n_channel_2=32\n",
        "n_dense=32\n",
        "n_train_epoch=10\n",
        "# --------------------------------\n",
        "\n",
        "model=keras.models.Sequential()\n",
        "model.add(keras.layers.Conv2D(n_channel_1, (3,3), activation='relu', input_shape=(28,28,3)))\n",
        "model.add(keras.layers.MaxPool2D(2,2))\n",
        "model.add(keras.layers.Conv2D(n_channel_2, (3,3), activation='relu'))\n",
        "model.add(keras.layers.MaxPooling2D((2,2)))\n",
        "model.add(keras.layers.Flatten())\n",
        "model.add(keras.layers.Dense(n_dense, activation='relu'))\n",
        "model.add(keras.layers.Dense(10, activation='softmax'))\n",
        "\n",
        "model.summary()\n",
        "model.compile(optimizer='adam',\n",
        "             loss='sparse_categorical_crossentropy',\n",
        "             metrics=['accuracy'])\n",
        "\n",
        "# 모델 훈련\n",
        "model.fit(x_train_norm, y_train, epochs=n_train_epoch)\n",
        "\n",
        "# 모델 시험\n",
        "test_loss, test_accuracy = model.evaluate(x_test_norm, y_test, verbose=2)\n",
        "print(f\"test_loss: {test_loss} \")\n",
        "print(f\"test_accuracy: {test_accuracy}\")"
      ],
      "metadata": {
        "colab": {
          "base_uri": "https://localhost:8080/"
        },
        "outputId": "4d3d7f56-627e-4855-9eac-6615030835f8",
        "id": "28W0W5hNuQ62"
      },
      "execution_count": 44,
      "outputs": [
        {
          "output_type": "stream",
          "name": "stdout",
          "text": [
            "Model: \"sequential_7\"\n",
            "_________________________________________________________________\n",
            " Layer (type)                Output Shape              Param #   \n",
            "=================================================================\n",
            " conv2d_14 (Conv2D)          (None, 26, 26, 32)        896       \n",
            "                                                                 \n",
            " max_pooling2d_14 (MaxPoolin  (None, 13, 13, 32)       0         \n",
            " g2D)                                                            \n",
            "                                                                 \n",
            " conv2d_15 (Conv2D)          (None, 11, 11, 32)        9248      \n",
            "                                                                 \n",
            " max_pooling2d_15 (MaxPoolin  (None, 5, 5, 32)         0         \n",
            " g2D)                                                            \n",
            "                                                                 \n",
            " flatten_7 (Flatten)         (None, 800)               0         \n",
            "                                                                 \n",
            " dense_14 (Dense)            (None, 32)                25632     \n",
            "                                                                 \n",
            " dense_15 (Dense)            (None, 10)                330       \n",
            "                                                                 \n",
            "=================================================================\n",
            "Total params: 36,106\n",
            "Trainable params: 36,106\n",
            "Non-trainable params: 0\n",
            "_________________________________________________________________\n",
            "Epoch 1/10\n",
            "76/76 [==============================] - 1s 4ms/step - loss: 1.1265 - accuracy: 0.4196\n",
            "Epoch 2/10\n",
            "76/76 [==============================] - 0s 4ms/step - loss: 0.7868 - accuracy: 0.6964\n",
            "Epoch 3/10\n",
            "76/76 [==============================] - 0s 4ms/step - loss: 0.4598 - accuracy: 0.8536\n",
            "Epoch 4/10\n",
            "76/76 [==============================] - 0s 4ms/step - loss: 0.3007 - accuracy: 0.9128\n",
            "Epoch 5/10\n",
            "76/76 [==============================] - 0s 4ms/step - loss: 0.2298 - accuracy: 0.9379\n",
            "Epoch 6/10\n",
            "76/76 [==============================] - 0s 4ms/step - loss: 0.2018 - accuracy: 0.9449\n",
            "Epoch 7/10\n",
            "76/76 [==============================] - 0s 4ms/step - loss: 0.1657 - accuracy: 0.9506\n",
            "Epoch 8/10\n",
            "76/76 [==============================] - 0s 4ms/step - loss: 0.1416 - accuracy: 0.9646\n",
            "Epoch 9/10\n",
            "76/76 [==============================] - 0s 4ms/step - loss: 0.0963 - accuracy: 0.9786\n",
            "Epoch 10/10\n",
            "76/76 [==============================] - 0s 4ms/step - loss: 0.0871 - accuracy: 0.9741\n",
            "19/19 - 0s - loss: 4.8165 - accuracy: 0.4350 - 186ms/epoch - 10ms/step\n",
            "test_loss: 4.816504955291748 \n",
            "test_accuracy: 0.4350000023841858\n"
          ]
        }
      ]
    },
    {
      "cell_type": "code",
      "source": [
        "# 바꿔 볼 수 있는 하이퍼파라미터들\n",
        "n_channel_1=32\n",
        "n_channel_2=32\n",
        "n_dense=32\n",
        "n_train_epoch=15\n",
        "# --------------------------------\n",
        "\n",
        "model=keras.models.Sequential()\n",
        "model.add(keras.layers.Conv2D(n_channel_1, (3,3), activation='relu', input_shape=(28,28,3)))\n",
        "model.add(keras.layers.MaxPool2D(2,2))\n",
        "model.add(keras.layers.Conv2D(n_channel_2, (3,3), activation='relu'))\n",
        "model.add(keras.layers.MaxPooling2D((2,2)))\n",
        "model.add(keras.layers.Flatten())\n",
        "model.add(keras.layers.Dense(n_dense, activation='relu'))\n",
        "model.add(keras.layers.Dense(10, activation='softmax'))\n",
        "\n",
        "model.summary()\n",
        "model.compile(optimizer='adam',\n",
        "             loss='sparse_categorical_crossentropy',\n",
        "             metrics=['accuracy'])\n",
        "\n",
        "# 모델 훈련\n",
        "model.fit(x_train_norm, y_train, epochs=n_train_epoch)\n",
        "\n",
        "# 모델 시험\n",
        "test_loss, test_accuracy = model.evaluate(x_test_norm, y_test, verbose=2)\n",
        "print(f\"test_loss: {test_loss} \")\n",
        "print(f\"test_accuracy: {test_accuracy}\")"
      ],
      "metadata": {
        "colab": {
          "base_uri": "https://localhost:8080/"
        },
        "outputId": "afd95f23-fa66-4cef-89b3-55c35b802501",
        "id": "1N9jbsoLufxN"
      },
      "execution_count": 45,
      "outputs": [
        {
          "output_type": "stream",
          "name": "stdout",
          "text": [
            "Model: \"sequential_8\"\n",
            "_________________________________________________________________\n",
            " Layer (type)                Output Shape              Param #   \n",
            "=================================================================\n",
            " conv2d_16 (Conv2D)          (None, 26, 26, 32)        896       \n",
            "                                                                 \n",
            " max_pooling2d_16 (MaxPoolin  (None, 13, 13, 32)       0         \n",
            " g2D)                                                            \n",
            "                                                                 \n",
            " conv2d_17 (Conv2D)          (None, 11, 11, 32)        9248      \n",
            "                                                                 \n",
            " max_pooling2d_17 (MaxPoolin  (None, 5, 5, 32)         0         \n",
            " g2D)                                                            \n",
            "                                                                 \n",
            " flatten_8 (Flatten)         (None, 800)               0         \n",
            "                                                                 \n",
            " dense_16 (Dense)            (None, 32)                25632     \n",
            "                                                                 \n",
            " dense_17 (Dense)            (None, 10)                330       \n",
            "                                                                 \n",
            "=================================================================\n",
            "Total params: 36,106\n",
            "Trainable params: 36,106\n",
            "Non-trainable params: 0\n",
            "_________________________________________________________________\n",
            "Epoch 1/15\n",
            "76/76 [==============================] - 1s 4ms/step - loss: 1.1827 - accuracy: 0.3937\n",
            "Epoch 2/15\n",
            "76/76 [==============================] - 0s 4ms/step - loss: 0.8863 - accuracy: 0.6331\n",
            "Epoch 3/15\n",
            "76/76 [==============================] - 0s 4ms/step - loss: 0.5325 - accuracy: 0.8474\n",
            "Epoch 4/15\n",
            "76/76 [==============================] - 0s 4ms/step - loss: 0.3138 - accuracy: 0.9210\n",
            "Epoch 5/15\n",
            "76/76 [==============================] - 0s 4ms/step - loss: 0.2382 - accuracy: 0.9321\n",
            "Epoch 6/15\n",
            "76/76 [==============================] - 0s 4ms/step - loss: 0.1736 - accuracy: 0.9560\n",
            "Epoch 7/15\n",
            "76/76 [==============================] - 0s 4ms/step - loss: 0.1281 - accuracy: 0.9700\n",
            "Epoch 8/15\n",
            "76/76 [==============================] - 0s 4ms/step - loss: 0.1080 - accuracy: 0.9708\n",
            "Epoch 9/15\n",
            "76/76 [==============================] - 0s 4ms/step - loss: 0.1197 - accuracy: 0.9609\n",
            "Epoch 10/15\n",
            "76/76 [==============================] - 0s 4ms/step - loss: 0.0683 - accuracy: 0.9848\n",
            "Epoch 11/15\n",
            "76/76 [==============================] - 0s 4ms/step - loss: 0.0840 - accuracy: 0.9712\n",
            "Epoch 12/15\n",
            "76/76 [==============================] - 0s 4ms/step - loss: 0.0766 - accuracy: 0.9786\n",
            "Epoch 13/15\n",
            "76/76 [==============================] - 0s 4ms/step - loss: 0.0554 - accuracy: 0.9856\n",
            "Epoch 14/15\n",
            "76/76 [==============================] - 0s 4ms/step - loss: 0.0430 - accuracy: 0.9914\n",
            "Epoch 15/15\n",
            "76/76 [==============================] - 0s 4ms/step - loss: 0.0368 - accuracy: 0.9910\n",
            "19/19 - 0s - loss: 5.6849 - accuracy: 0.4500 - 183ms/epoch - 10ms/step\n",
            "test_loss: 5.684857368469238 \n",
            "test_accuracy: 0.44999998807907104\n"
          ]
        }
      ]
    },
    {
      "cell_type": "code",
      "source": [
        "# 바꿔 볼 수 있는 하이퍼파라미터들\n",
        "n_channel_1=32\n",
        "n_channel_2=32\n",
        "n_dense=64\n",
        "n_train_epoch=15\n",
        "# --------------------------------\n",
        "\n",
        "model=keras.models.Sequential()\n",
        "model.add(keras.layers.Conv2D(n_channel_1, (3,3), activation='relu', input_shape=(28,28,3)))\n",
        "model.add(keras.layers.MaxPool2D(2,2))\n",
        "model.add(keras.layers.Conv2D(n_channel_2, (3,3), activation='relu'))\n",
        "model.add(keras.layers.MaxPooling2D((2,2)))\n",
        "model.add(keras.layers.Flatten())\n",
        "model.add(keras.layers.Dense(n_dense, activation='relu'))\n",
        "model.add(keras.layers.Dense(10, activation='softmax'))\n",
        "\n",
        "model.summary()\n",
        "model.compile(optimizer='adam',\n",
        "             loss='sparse_categorical_crossentropy',\n",
        "             metrics=['accuracy'])\n",
        "\n",
        "# 모델 훈련\n",
        "model.fit(x_train_norm, y_train, epochs=n_train_epoch)\n",
        "\n",
        "# 모델 시험\n",
        "test_loss, test_accuracy = model.evaluate(x_test_norm, y_test, verbose=2)\n",
        "print(f\"test_loss: {test_loss} \")\n",
        "print(f\"test_accuracy: {test_accuracy}\")"
      ],
      "metadata": {
        "colab": {
          "base_uri": "https://localhost:8080/"
        },
        "outputId": "ed249cd0-e047-4dc4-c288-5af0b92493bb",
        "id": "p29uTphdt0NF"
      },
      "execution_count": 46,
      "outputs": [
        {
          "output_type": "stream",
          "name": "stdout",
          "text": [
            "Model: \"sequential_9\"\n",
            "_________________________________________________________________\n",
            " Layer (type)                Output Shape              Param #   \n",
            "=================================================================\n",
            " conv2d_18 (Conv2D)          (None, 26, 26, 32)        896       \n",
            "                                                                 \n",
            " max_pooling2d_18 (MaxPoolin  (None, 13, 13, 32)       0         \n",
            " g2D)                                                            \n",
            "                                                                 \n",
            " conv2d_19 (Conv2D)          (None, 11, 11, 32)        9248      \n",
            "                                                                 \n",
            " max_pooling2d_19 (MaxPoolin  (None, 5, 5, 32)         0         \n",
            " g2D)                                                            \n",
            "                                                                 \n",
            " flatten_9 (Flatten)         (None, 800)               0         \n",
            "                                                                 \n",
            " dense_18 (Dense)            (None, 64)                51264     \n",
            "                                                                 \n",
            " dense_19 (Dense)            (None, 10)                650       \n",
            "                                                                 \n",
            "=================================================================\n",
            "Total params: 62,058\n",
            "Trainable params: 62,058\n",
            "Non-trainable params: 0\n",
            "_________________________________________________________________\n",
            "Epoch 1/15\n",
            "76/76 [==============================] - 1s 4ms/step - loss: 1.1529 - accuracy: 0.3957\n",
            "Epoch 2/15\n",
            "76/76 [==============================] - 0s 4ms/step - loss: 0.8230 - accuracy: 0.6475\n",
            "Epoch 3/15\n",
            "76/76 [==============================] - 0s 4ms/step - loss: 0.4318 - accuracy: 0.8433\n",
            "Epoch 4/15\n",
            "76/76 [==============================] - 0s 4ms/step - loss: 0.2496 - accuracy: 0.9194\n",
            "Epoch 5/15\n",
            "76/76 [==============================] - 0s 4ms/step - loss: 0.1583 - accuracy: 0.9527\n",
            "Epoch 6/15\n",
            "76/76 [==============================] - 0s 4ms/step - loss: 0.1093 - accuracy: 0.9691\n",
            "Epoch 7/15\n",
            "76/76 [==============================] - 0s 4ms/step - loss: 0.0789 - accuracy: 0.9815\n",
            "Epoch 8/15\n",
            "76/76 [==============================] - 0s 4ms/step - loss: 0.0635 - accuracy: 0.9852\n",
            "Epoch 9/15\n",
            "76/76 [==============================] - 0s 4ms/step - loss: 0.0489 - accuracy: 0.9922\n",
            "Epoch 10/15\n",
            "76/76 [==============================] - 0s 4ms/step - loss: 0.0820 - accuracy: 0.9733\n",
            "Epoch 11/15\n",
            "76/76 [==============================] - 0s 4ms/step - loss: 0.0330 - accuracy: 0.9942\n",
            "Epoch 12/15\n",
            "76/76 [==============================] - 0s 4ms/step - loss: 0.0238 - accuracy: 0.9959\n",
            "Epoch 13/15\n",
            "76/76 [==============================] - 0s 4ms/step - loss: 0.0197 - accuracy: 0.9955\n",
            "Epoch 14/15\n",
            "76/76 [==============================] - 0s 4ms/step - loss: 0.0181 - accuracy: 0.9967\n",
            "Epoch 15/15\n",
            "76/76 [==============================] - 0s 4ms/step - loss: 0.0199 - accuracy: 0.9947\n",
            "19/19 - 0s - loss: 6.3546 - accuracy: 0.5567 - 186ms/epoch - 10ms/step\n",
            "test_loss: 6.354551792144775 \n",
            "test_accuracy: 0.5566666722297668\n"
          ]
        }
      ]
    },
    {
      "cell_type": "code",
      "source": [
        "# 바꿔 볼 수 있는 하이퍼파라미터들\n",
        "n_channel_1=32\n",
        "n_channel_2=32\n",
        "n_dense=64\n",
        "n_train_epoch=20\n",
        "# --------------------------------\n",
        "\n",
        "model=keras.models.Sequential()\n",
        "model.add(keras.layers.Conv2D(n_channel_1, (3,3), activation='relu', input_shape=(28,28,3)))\n",
        "model.add(keras.layers.MaxPool2D(2,2))\n",
        "model.add(keras.layers.Conv2D(n_channel_2, (3,3), activation='relu'))\n",
        "model.add(keras.layers.MaxPooling2D((2,2)))\n",
        "model.add(keras.layers.Flatten())\n",
        "model.add(keras.layers.Dense(n_dense, activation='relu'))\n",
        "model.add(keras.layers.Dense(10, activation='softmax'))\n",
        "\n",
        "model.summary()\n",
        "model.compile(optimizer='adam',\n",
        "             loss='sparse_categorical_crossentropy',\n",
        "             metrics=['accuracy'])\n",
        "\n",
        "# 모델 훈련\n",
        "model.fit(x_train_norm, y_train, epochs=n_train_epoch)\n",
        "\n",
        "# 모델 시험\n",
        "test_loss, test_accuracy = model.evaluate(x_test_norm, y_test, verbose=2)\n",
        "print(f\"test_loss: {test_loss} \")\n",
        "print(f\"test_accuracy: {test_accuracy}\")"
      ],
      "metadata": {
        "colab": {
          "base_uri": "https://localhost:8080/"
        },
        "outputId": "28d25e09-e629-4b88-ede2-60d0e202b2b1",
        "id": "GJ3GqVf7t0ZG"
      },
      "execution_count": 47,
      "outputs": [
        {
          "output_type": "stream",
          "name": "stdout",
          "text": [
            "Model: \"sequential_10\"\n",
            "_________________________________________________________________\n",
            " Layer (type)                Output Shape              Param #   \n",
            "=================================================================\n",
            " conv2d_20 (Conv2D)          (None, 26, 26, 32)        896       \n",
            "                                                                 \n",
            " max_pooling2d_20 (MaxPoolin  (None, 13, 13, 32)       0         \n",
            " g2D)                                                            \n",
            "                                                                 \n",
            " conv2d_21 (Conv2D)          (None, 11, 11, 32)        9248      \n",
            "                                                                 \n",
            " max_pooling2d_21 (MaxPoolin  (None, 5, 5, 32)         0         \n",
            " g2D)                                                            \n",
            "                                                                 \n",
            " flatten_10 (Flatten)        (None, 800)               0         \n",
            "                                                                 \n",
            " dense_20 (Dense)            (None, 64)                51264     \n",
            "                                                                 \n",
            " dense_21 (Dense)            (None, 10)                650       \n",
            "                                                                 \n",
            "=================================================================\n",
            "Total params: 62,058\n",
            "Trainable params: 62,058\n",
            "Non-trainable params: 0\n",
            "_________________________________________________________________\n",
            "Epoch 1/20\n",
            "76/76 [==============================] - 1s 4ms/step - loss: 1.1681 - accuracy: 0.3842\n",
            "Epoch 2/20\n",
            "76/76 [==============================] - 0s 4ms/step - loss: 0.8883 - accuracy: 0.6104\n",
            "Epoch 3/20\n",
            "76/76 [==============================] - 0s 4ms/step - loss: 0.5392 - accuracy: 0.7972\n",
            "Epoch 4/20\n",
            "76/76 [==============================] - 0s 4ms/step - loss: 0.3306 - accuracy: 0.8861\n",
            "Epoch 5/20\n",
            "76/76 [==============================] - 0s 4ms/step - loss: 0.2499 - accuracy: 0.9111\n",
            "Epoch 6/20\n",
            "76/76 [==============================] - 0s 4ms/step - loss: 0.1605 - accuracy: 0.9568\n",
            "Epoch 7/20\n",
            "76/76 [==============================] - 0s 4ms/step - loss: 0.1278 - accuracy: 0.9646\n",
            "Epoch 8/20\n",
            "76/76 [==============================] - 0s 4ms/step - loss: 0.1104 - accuracy: 0.9671\n",
            "Epoch 9/20\n",
            "76/76 [==============================] - 0s 4ms/step - loss: 0.0894 - accuracy: 0.9729\n",
            "Epoch 10/20\n",
            "76/76 [==============================] - 0s 4ms/step - loss: 0.0683 - accuracy: 0.9823\n",
            "Epoch 11/20\n",
            "76/76 [==============================] - 0s 4ms/step - loss: 0.0568 - accuracy: 0.9852\n",
            "Epoch 12/20\n",
            "76/76 [==============================] - 0s 4ms/step - loss: 0.0559 - accuracy: 0.9848\n",
            "Epoch 13/20\n",
            "76/76 [==============================] - 0s 4ms/step - loss: 0.0742 - accuracy: 0.9745\n",
            "Epoch 14/20\n",
            "76/76 [==============================] - 0s 4ms/step - loss: 0.0413 - accuracy: 0.9893\n",
            "Epoch 15/20\n",
            "76/76 [==============================] - 0s 4ms/step - loss: 0.0332 - accuracy: 0.9938\n",
            "Epoch 16/20\n",
            "76/76 [==============================] - 0s 4ms/step - loss: 0.0302 - accuracy: 0.9926\n",
            "Epoch 17/20\n",
            "76/76 [==============================] - 0s 4ms/step - loss: 0.0511 - accuracy: 0.9823\n",
            "Epoch 18/20\n",
            "76/76 [==============================] - 0s 4ms/step - loss: 0.0235 - accuracy: 0.9942\n",
            "Epoch 19/20\n",
            "76/76 [==============================] - 0s 4ms/step - loss: 0.0336 - accuracy: 0.9901\n",
            "Epoch 20/20\n",
            "76/76 [==============================] - 0s 4ms/step - loss: 0.0257 - accuracy: 0.9938\n",
            "19/19 - 0s - loss: 7.6575 - accuracy: 0.4750 - 190ms/epoch - 10ms/step\n",
            "test_loss: 7.657499313354492 \n",
            "test_accuracy: 0.4749999940395355\n"
          ]
        }
      ]
    },
    {
      "cell_type": "code",
      "source": [
        "# 바꿔 볼 수 있는 하이퍼파라미터들\n",
        "n_channel_1=32\n",
        "n_channel_2=64\n",
        "n_dense=300\n",
        "n_train_epoch=15\n",
        "# --------------------------------\n",
        "\n",
        "model=keras.models.Sequential()\n",
        "model.add(keras.layers.Conv2D(n_channel_1, (3,3), activation='relu', input_shape=(28,28,3)))\n",
        "model.add(keras.layers.MaxPool2D(2,2))\n",
        "model.add(keras.layers.Conv2D(n_channel_2, (3,3), activation='relu'))\n",
        "model.add(keras.layers.MaxPooling2D((2,2)))\n",
        "model.add(keras.layers.Flatten())\n",
        "model.add(keras.layers.Dense(n_dense, activation='relu'))\n",
        "model.add(keras.layers.Dense(10, activation='softmax'))\n",
        "\n",
        "model.summary()\n",
        "model.compile(optimizer='adam',\n",
        "             loss='sparse_categorical_crossentropy',\n",
        "             metrics=['accuracy'])\n",
        "\n",
        "# 모델 훈련\n",
        "model.fit(x_train_norm, y_train, epochs=n_train_epoch)\n",
        "\n",
        "# 모델 시험\n",
        "test_loss, test_accuracy = model.evaluate(x_test_norm, y_test, verbose=2)\n",
        "print(f\"test_loss: {test_loss} \")\n",
        "print(f\"test_accuracy: {test_accuracy}\")"
      ],
      "metadata": {
        "id": "AL4t-dHGmV2O",
        "colab": {
          "base_uri": "https://localhost:8080/"
        },
        "outputId": "2f740673-8725-4714-f6ed-ec5233625f5f"
      },
      "execution_count": 66,
      "outputs": [
        {
          "output_type": "stream",
          "name": "stdout",
          "text": [
            "Model: \"sequential_29\"\n",
            "_________________________________________________________________\n",
            " Layer (type)                Output Shape              Param #   \n",
            "=================================================================\n",
            " conv2d_58 (Conv2D)          (None, 26, 26, 32)        896       \n",
            "                                                                 \n",
            " max_pooling2d_58 (MaxPoolin  (None, 13, 13, 32)       0         \n",
            " g2D)                                                            \n",
            "                                                                 \n",
            " conv2d_59 (Conv2D)          (None, 11, 11, 64)        18496     \n",
            "                                                                 \n",
            " max_pooling2d_59 (MaxPoolin  (None, 5, 5, 64)         0         \n",
            " g2D)                                                            \n",
            "                                                                 \n",
            " flatten_29 (Flatten)        (None, 1600)              0         \n",
            "                                                                 \n",
            " dense_57 (Dense)            (None, 300)               480300    \n",
            "                                                                 \n",
            " dense_58 (Dense)            (None, 10)                3010      \n",
            "                                                                 \n",
            "=================================================================\n",
            "Total params: 502,702\n",
            "Trainable params: 502,702\n",
            "Non-trainable params: 0\n",
            "_________________________________________________________________\n",
            "Epoch 1/15\n",
            "76/76 [==============================] - 1s 4ms/step - loss: 0.9384 - accuracy: 0.5693\n",
            "Epoch 2/15\n",
            "76/76 [==============================] - 0s 4ms/step - loss: 0.3229 - accuracy: 0.9099\n",
            "Epoch 3/15\n",
            "76/76 [==============================] - 0s 4ms/step - loss: 0.1677 - accuracy: 0.9465\n",
            "Epoch 4/15\n",
            "76/76 [==============================] - 0s 4ms/step - loss: 0.1139 - accuracy: 0.9663\n",
            "Epoch 5/15\n",
            "76/76 [==============================] - 0s 4ms/step - loss: 0.0725 - accuracy: 0.9798\n",
            "Epoch 6/15\n",
            "76/76 [==============================] - 0s 4ms/step - loss: 0.0537 - accuracy: 0.9881\n",
            "Epoch 7/15\n",
            "76/76 [==============================] - 0s 4ms/step - loss: 0.0389 - accuracy: 0.9905\n",
            "Epoch 8/15\n",
            "76/76 [==============================] - 0s 4ms/step - loss: 0.0276 - accuracy: 0.9934\n",
            "Epoch 9/15\n",
            "76/76 [==============================] - 0s 4ms/step - loss: 0.0390 - accuracy: 0.9885\n",
            "Epoch 10/15\n",
            "76/76 [==============================] - 0s 4ms/step - loss: 0.0151 - accuracy: 0.9975\n",
            "Epoch 11/15\n",
            "76/76 [==============================] - 0s 4ms/step - loss: 0.0138 - accuracy: 0.9975\n",
            "Epoch 12/15\n",
            "76/76 [==============================] - 0s 4ms/step - loss: 0.0103 - accuracy: 0.9988\n",
            "Epoch 13/15\n",
            "76/76 [==============================] - 0s 4ms/step - loss: 0.0094 - accuracy: 0.9996\n",
            "Epoch 14/15\n",
            "76/76 [==============================] - 0s 4ms/step - loss: 0.0053 - accuracy: 0.9996\n",
            "Epoch 15/15\n",
            "76/76 [==============================] - 0s 4ms/step - loss: 0.0042 - accuracy: 1.0000\n",
            "19/19 - 0s - loss: 5.4225 - accuracy: 0.6000 - 185ms/epoch - 10ms/step\n",
            "test_loss: 5.422545433044434 \n",
            "test_accuracy: 0.6000000238418579\n"
          ]
        }
      ]
    },
    {
      "cell_type": "markdown",
      "source": [
        "n_channel_1=32\n",
        "n_channel_2=64\n",
        "n_dense=300\n",
        "n_train_epoch=15\n",
        "\n",
        "하이퍼 파라미터가 위의 값이 되어서야 겨우 정확도가 60%를 달성한 모습이다."
      ],
      "metadata": {
        "id": "2AtUnirQYA10"
      }
    },
    {
      "cell_type": "markdown",
      "source": [
        "# 결과"
      ],
      "metadata": {
        "id": "BYb-mUAgVyR8"
      }
    },
    {
      "cell_type": "code",
      "source": [
        "# 앞의 결과를 train loss 크기로 나열\n",
        "\n",
        "data_dict = {'train loss': [0.087, 0.037, 0.033, 0.026, 0.020, 0.004], 'test acc': [0.435, 0.449, 0.417, 0.475, 0.557, 0.600]}\n",
        "\n",
        "plt.plot('train loss', 'test acc', data=data_dict)\n",
        "plt.xlabel('train loss', fontsize=15)\n",
        "plt.ylabel('test acc', fontsize=15)\n",
        "plt.show()"
      ],
      "metadata": {
        "colab": {
          "base_uri": "https://localhost:8080/",
          "height": 284
        },
        "id": "Q1OYgdmOVvA4",
        "outputId": "5c3817a9-c10b-4f69-f98e-9b43def02a11"
      },
      "execution_count": 75,
      "outputs": [
        {
          "output_type": "display_data",
          "data": {
            "text/plain": [
              "<Figure size 432x288 with 1 Axes>"
            ],
            "image/png": "[encoded data removed]"
          },
          "metadata": {
            "needs_background": "light"
          }
        }
      ]
    },
    {
      "cell_type": "markdown",
      "source": [
        "일반적으로 train loss 가 작아질수록 test acc도 증가하고 있다."
      ],
      "metadata": {
        "id": "EGSYl0zPYLah"
      }
    },
    {
      "cell_type": "markdown",
      "source": [
        "# 회고\n",
        "\n",
        "이번에는 이미지 파일을 보고 가위, 바위, 보 중 어떤 것인지 인지할 수 있도록 딥러닝 네트워크를 만들어보았다. 이 딥러닝 네트워크를 사용한 회귀모델은 데이터를 여러 계층을 통해 매개변수를 스스로 학습하고 그것을 가지고 이후 테스트 데이터셋이 왔을 때 예측을 시도한다. 이 학습을 위해 먼저 데이터를 모델이 읽을 수 있도록 만들어야했는데 우선 리사이징을 해서 픽셀의 수를 줄이고 3차원 RGB 값을 행렬로 표현하였다. 이렇게 만들어진 각각의 파일들에 타겟 데이터를 라벨로 붙였다.\n",
        "\n",
        "첫번째로 궁금증이 생겼던 점은 이미지를 리사이징한 것이었다. 나는 픽셀의 수가 더 많을수록, 즉 고화질의 사진일수록 더욱 이미지가 명확해지고 모델의 성능이 증가할 것이라 예상했다. 그래서 기존의 방법대로 28\\*28 사이즈로 학습을 한 이후 이것의 4배인 56*56 으로도 모델을 학습시켜 테스트 데이터셋에 대한 예측 성능을 보았다. 그러자 결과는 내 예상과는 반대로 해상도를 늘렸을 때 오히려 성능이 하락하는 모습을 보였다.\n",
        "\n",
        "이미지의 크기를 늘렸으므로 당연히 이미지 하나가 가진 데이터의 양이 크게 증가해 모델이 학습하는 속도도 꽤나 느려졌었는데 오히려 성능이 떨어진 것은 처음에는 이해하기 어려웠다. 그러나 얼마 전 convolution layer에 대해서 배웠을 때가 생각났다. 해상도가 늘어나면서 데이터의 수가 크게 늘어나 오히려 모델이 어떤 부분이 중요한 데이터인지 파악하는데 더 난항을 겪었으리라 예상했다. 시퀀셜 모델에서는 이미지의 픽셀을 병합하여 처리하면서 특징적인 부분을 잡아내고 학습속도를 높인다. 그런데 이 이미지의 크기를 늘려서 오히려 모델을 방해한 꼴이 된 것이다. 물론 모델을 여기에 맞게 수정하면 떨어진 성능이 되돌아오겠지만 같은 일을 더 어렵게 할 뿐이었으므로 28*28로 리사이징한 모델만을 사용하기로 했다.\n",
        "\n",
        "두번째 궁금증은 테스트 결과와 오버피팅에 대한 것이었다. 학습 과정에서는 정확도가 매우 높게 나왔음에도 불구하고 정작 테스트에서는 낮은 정확도가 나온 것이다. 사실 학습 데이터와는 전혀 다른 환경에서 다른 사람이 촬영한 사진을 테스트 데이터로 사용하여 일반적인 경우에 대한 모델의 정확도를 측정한 것이므로 정확도가 낮게 나올 수밖에 없었다. 이것을 해결하기 위해 파라미터를 조정하고자 했는데 오버피팅이 발목을 잡았다. 이미 학습에서는 정확도가 충분히 높게 나오고 있었는데 오버피팅을 피하면서 예측 정확도를 높여야만 했다. 이를 위해 데이터를 정규화했으며 여러 사람이 촬영한 사진을 사용했다. 그러자 epoch가 15일 때 정도를 기점으로 오버피팅이 나타나는 증상이 나오는 것을 확인할 수 있었으며 마지막에는 epoch를 15에 고정해두고 사용했다. 이 때 사진 파일들을 넣는 과정이 번거로워 더 많은 데이터를 넣지 않았었는데 사실 오버피팅은 데이터셋을 크게 늘리면 해결할 수 있으므로 다른 사람의 사진을 더 추가하면 쉽게 해결하거나 비교할만한 결과를 낼 수 있었을 것으로 생각한다. 하지만 당시엔 이 점을 바로 떠올리지 못 했다. \n",
        "\n",
        "그래서 나머지 하이퍼 파라미터를 바꿔가며 어떤 것이 테스트 정확도에 어떤 영향을 주는지 비교해가며 정확도를 60% 이상으로 올리기 위해 노력했다. 결국 dense가 매우 커져야만 한다는 결론을 얻었다. 만약 구글 코랩에서 런타임 유형을 적합한 것으로 바꾸지 않았다면 학습에만 엄청나게 오랜 시간이 걸렸을 것이다. 그나마도 dense가 더 올라가면 오버피팅 때문인지 정확도가 다시 내려가는 구간이 생겨서 적합한 수치를 찾는데에 시간이 걸렸다.\n",
        "\n",
        "이 파라미터들을 비교하기 위해 그리드 서치를 사용하는 것 또한 고려해봤으나 처음에는 학습 결과가 더 좋은 것이 테스트 결과도 더 좋으리라는 보장이 없으므로 (각기 다른 사람이 찍은 사진이고, 오버피팅 문제도 있으므로) 시도하지 않았다. 그러나 정작 여러 수치를 직접 넣어보며 얻은 결과에서는 train loss가 낮아질수록 test acc도 높아지는 것을 볼 수 있었다. 즉 오버피팅만 피한다면 train loss는 충분히 테스트 결과를 가늠할 수 있는 지표가 된다는 뜻이다. 만약 이 사실을 미리 알았다면 그리드 서치를 사용해 적합한 하이퍼 파라미터를 쉽게 찾았을지도 모른다."
      ],
      "metadata": {
        "id": "LGmbB9W4h_mW"
      }
    },
    {
      "cell_type": "markdown",
      "source": [
        "# Reference\n",
        "\n",
        "https://blog.naver.com/dahye1416/222298158256\n",
        "\n",
        "https://blog.naver.com/with_msip/222243939277"
      ],
      "metadata": {
        "id": "kGnMQiKBh_2H"
      }
    }
  ]
}